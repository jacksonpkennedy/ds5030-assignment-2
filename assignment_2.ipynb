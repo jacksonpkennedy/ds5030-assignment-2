{
 "cells": [
  {
   "cell_type": "markdown",
   "id": "87b91d83",
   "metadata": {},
   "source": [
    "# Assignment 2\n",
    "### Understanding Uncertainty\n",
    "### Due 9/12"
   ]
  },
  {
   "cell_type": "markdown",
   "id": "380e339f",
   "metadata": {},
   "source": [
    "1. 'State Bottle Retail' is the price at which the bottle is sold, while 'State Bottle Cost' is the price the state pays for a bottle.\n",
    "- How do you define the most profitable item? Why? Explain your thinking.\n",
    "- Use `.groupby` calculations to determine the most profitable liquors sold in Iowa.\n",
    "- Make a plot of the top liquors."
   ]
  },
  {
   "cell_type": "code",
   "execution_count": 1,
   "id": "c969deab",
   "metadata": {},
   "outputs": [],
   "source": [
    "import pandas as pd\n",
    "import numpy as np\n",
    "import matplotlib.pyplot as plt\n",
    "import seaborn as sns"
   ]
  },
  {
   "cell_type": "code",
   "execution_count": 2,
   "id": "6032e447",
   "metadata": {},
   "outputs": [
    {
     "data": {
      "text/html": [
       "<div>\n",
       "<style scoped>\n",
       "    .dataframe tbody tr th:only-of-type {\n",
       "        vertical-align: middle;\n",
       "    }\n",
       "\n",
       "    .dataframe tbody tr th {\n",
       "        vertical-align: top;\n",
       "    }\n",
       "\n",
       "    .dataframe thead th {\n",
       "        text-align: right;\n",
       "    }\n",
       "</style>\n",
       "<table border=\"1\" class=\"dataframe\">\n",
       "  <thead>\n",
       "    <tr style=\"text-align: right;\">\n",
       "      <th></th>\n",
       "      <th>Invoice/Item Number</th>\n",
       "      <th>Date</th>\n",
       "      <th>Store Number</th>\n",
       "      <th>Store Name</th>\n",
       "      <th>Zip Code</th>\n",
       "      <th>Category Name</th>\n",
       "      <th>Vendor Name</th>\n",
       "      <th>Item Number</th>\n",
       "      <th>Item Description</th>\n",
       "      <th>Bottle Volume (ml)</th>\n",
       "      <th>State Bottle Cost</th>\n",
       "      <th>State Bottle Retail</th>\n",
       "      <th>Bottles Sold</th>\n",
       "      <th>Sale (Dollars)</th>\n",
       "    </tr>\n",
       "  </thead>\n",
       "  <tbody>\n",
       "    <tr>\n",
       "      <th>0</th>\n",
       "      <td>INV-59108400026</td>\n",
       "      <td>06/06/2023</td>\n",
       "      <td>3723</td>\n",
       "      <td>J D SPIRITS LIQUOR</td>\n",
       "      <td>51040</td>\n",
       "      <td>STRAIGHT RYE WHISKIES</td>\n",
       "      <td>INFINIUM SPIRITS</td>\n",
       "      <td>27102</td>\n",
       "      <td>TEMPLETON RYE 4YR</td>\n",
       "      <td>750</td>\n",
       "      <td>18.09</td>\n",
       "      <td>27.14</td>\n",
       "      <td>2</td>\n",
       "      <td>54.28</td>\n",
       "    </tr>\n",
       "    <tr>\n",
       "      <th>1</th>\n",
       "      <td>S16879800057</td>\n",
       "      <td>01/16/2014</td>\n",
       "      <td>3926</td>\n",
       "      <td>LIQUOR DOWNTOWN / IOWA CITY</td>\n",
       "      <td>52240</td>\n",
       "      <td>VODKA 80 PROOF</td>\n",
       "      <td>HEAVEN HILL BRANDS</td>\n",
       "      <td>35416</td>\n",
       "      <td>BURNETT'S VODKA 80 PRF</td>\n",
       "      <td>750</td>\n",
       "      <td>4.84</td>\n",
       "      <td>7.26</td>\n",
       "      <td>12</td>\n",
       "      <td>87.12</td>\n",
       "    </tr>\n",
       "    <tr>\n",
       "      <th>2</th>\n",
       "      <td>INV-05301100019</td>\n",
       "      <td>06/05/2017</td>\n",
       "      <td>3829</td>\n",
       "      <td>GARY'S FOODS / MT VERNON</td>\n",
       "      <td>52314</td>\n",
       "      <td>CANADIAN WHISKIES</td>\n",
       "      <td>DIAGEO AMERICAS</td>\n",
       "      <td>11296</td>\n",
       "      <td>CROWN ROYAL</td>\n",
       "      <td>750</td>\n",
       "      <td>15.59</td>\n",
       "      <td>23.39</td>\n",
       "      <td>6</td>\n",
       "      <td>135.66</td>\n",
       "    </tr>\n",
       "    <tr>\n",
       "      <th>3</th>\n",
       "      <td>INV-40973500083</td>\n",
       "      <td>10/14/2021</td>\n",
       "      <td>5102</td>\n",
       "      <td>WILKIE LIQUORS</td>\n",
       "      <td>52314</td>\n",
       "      <td>AMERICAN SCHNAPPS</td>\n",
       "      <td>JIM BEAM BRANDS</td>\n",
       "      <td>82787</td>\n",
       "      <td>DEKUYPER BUTTERSHOTS</td>\n",
       "      <td>1000</td>\n",
       "      <td>7.87</td>\n",
       "      <td>11.81</td>\n",
       "      <td>12</td>\n",
       "      <td>141.72</td>\n",
       "    </tr>\n",
       "    <tr>\n",
       "      <th>4</th>\n",
       "      <td>INV-17022500013</td>\n",
       "      <td>01/18/2019</td>\n",
       "      <td>2560</td>\n",
       "      <td>HY-VEE FOOD STORE / MARION</td>\n",
       "      <td>52302</td>\n",
       "      <td>WHISKEY LIQUEUR</td>\n",
       "      <td>SAZERAC COMPANY  INC</td>\n",
       "      <td>64863</td>\n",
       "      <td>FIREBALL CINNAMON WHISKEY</td>\n",
       "      <td>200</td>\n",
       "      <td>2.50</td>\n",
       "      <td>3.75</td>\n",
       "      <td>12</td>\n",
       "      <td>45.00</td>\n",
       "    </tr>\n",
       "  </tbody>\n",
       "</table>\n",
       "</div>"
      ],
      "text/plain": [
       "  Invoice/Item Number        Date  Store Number                   Store Name  \\\n",
       "0     INV-59108400026  06/06/2023          3723           J D SPIRITS LIQUOR   \n",
       "1        S16879800057  01/16/2014          3926  LIQUOR DOWNTOWN / IOWA CITY   \n",
       "2     INV-05301100019  06/05/2017          3829     GARY'S FOODS / MT VERNON   \n",
       "3     INV-40973500083  10/14/2021          5102               WILKIE LIQUORS   \n",
       "4     INV-17022500013  01/18/2019          2560   HY-VEE FOOD STORE / MARION   \n",
       "\n",
       "  Zip Code          Category Name           Vendor Name  Item Number  \\\n",
       "0    51040  STRAIGHT RYE WHISKIES      INFINIUM SPIRITS        27102   \n",
       "1    52240         VODKA 80 PROOF    HEAVEN HILL BRANDS        35416   \n",
       "2    52314      CANADIAN WHISKIES       DIAGEO AMERICAS        11296   \n",
       "3    52314      AMERICAN SCHNAPPS       JIM BEAM BRANDS        82787   \n",
       "4    52302        WHISKEY LIQUEUR  SAZERAC COMPANY  INC        64863   \n",
       "\n",
       "            Item Description  Bottle Volume (ml)  State Bottle Cost  \\\n",
       "0          TEMPLETON RYE 4YR                 750              18.09   \n",
       "1     BURNETT'S VODKA 80 PRF                 750               4.84   \n",
       "2                CROWN ROYAL                 750              15.59   \n",
       "3       DEKUYPER BUTTERSHOTS                1000               7.87   \n",
       "4  FIREBALL CINNAMON WHISKEY                 200               2.50   \n",
       "\n",
       "   State Bottle Retail  Bottles Sold  Sale (Dollars)  \n",
       "0                27.14             2           54.28  \n",
       "1                 7.26            12           87.12  \n",
       "2                23.39             6          135.66  \n",
       "3                11.81            12          141.72  \n",
       "4                 3.75            12           45.00  "
      ]
     },
     "execution_count": 2,
     "metadata": {},
     "output_type": "execute_result"
    }
   ],
   "source": [
    "df = pd.read_csv('./data/iowa.csv')\n",
    "df.head()"
   ]
  },
  {
   "cell_type": "code",
   "execution_count": 3,
   "id": "72e95157",
   "metadata": {},
   "outputs": [
    {
     "name": "stderr",
     "output_type": "stream",
     "text": [
      "/var/folders/yb/69jvqn_52szfqjzyzmz2vk0h0000gn/T/ipykernel_16997/3858311452.py:4: FutureWarning: DataFrameGroupBy.apply operated on the grouping columns. This behavior is deprecated, and in a future version of pandas the grouping columns will be excluded from the operation. Either pass `include_groups=False` to exclude the groupings or explicitly select the grouping columns after groupby to silence this warning.\n",
      "  grouped = df.groupby(\"Item Description\").apply(get_profit).sort_values(ascending = False)\n"
     ]
    },
    {
     "data": {
      "text/plain": [
       "Item Description\n",
       "TITOS HANDMADE VODKA               364074.35\n",
       "BLACK VELVET                       274676.85\n",
       "FIREBALL CINNAMON WHISKEY          187535.22\n",
       "CROWN ROYAL                        160981.95\n",
       "CROWN ROYAL REGAL APPLE            122880.40\n",
       "CAPTAIN MORGAN SPICED RUM          121115.30\n",
       "HAWKEYE VODKA                      116375.04\n",
       "CAPTAIN MORGAN ORIGINAL SPICED     112146.71\n",
       "JACK DANIELS OLD #7 BLACK LABEL    111509.09\n",
       "HENNESSY VS                        108459.45\n",
       "dtype: float64"
      ]
     },
     "execution_count": 3,
     "metadata": {},
     "output_type": "execute_result"
    }
   ],
   "source": [
    "def get_profit(df):\n",
    "    return (df[\"Bottles Sold\"] * (df[\"State Bottle Retail\"] - df[\"State Bottle Cost\"])).sum()\n",
    "\n",
    "grouped = df.groupby(\"Item Description\").apply(get_profit).sort_values(ascending = False)\n",
    "\n",
    "top10 = grouped.head(10)\n",
    "top10"
   ]
  },
  {
   "cell_type": "code",
   "execution_count": 4,
   "id": "dc707a07",
   "metadata": {},
   "outputs": [
    {
     "data": {
      "image/png": "[encoded data removed]",
      "text/plain": [
       "<Figure size 640x480 with 1 Axes>"
      ]
     },
     "metadata": {},
     "output_type": "display_data"
    }
   ],
   "source": [
    "top10_df = top10.reset_index()\n",
    "top10_df.columns = ['Item Description', 'Profit']\n",
    "\n",
    "sns.barplot(\n",
    "    data = top10_df,\n",
    "    x = 'Profit',\n",
    "    y = 'Item Description'\n",
    ")\n",
    "plt.title('10 Most Profitable Liquors in Iowa')\n",
    "plt.ylabel('')\n",
    "plt.xlabel('Profit ($)')\n",
    "plt.show()\n"
   ]
  },
  {
   "cell_type": "markdown",
   "id": "63593bde",
   "metadata": {},
   "source": [
    "2. This question is to further explore broadcasting in NumPy.\n",
    "\n",
    "- In the first code chunk below, there are two vectors, $x$ and $y$. What happens when you try to subtract them?\n",
    "- Instead, try `x.reshape(-1,1)-y.reshape(1,-1)`. What do you get?\n",
    "- Try `x.reshape(1,-1)-y.reshape(-1,1)`. Compare the results to your previous answer.\n",
    "- Write two double for-loops to replicate the results of the previous two answers. \n",
    "- Clearly explain how `x.reshape(1,-1)` and `x.reshape(-1,1)` change $x$"
   ]
  },
  {
   "cell_type": "code",
   "execution_count": 5,
   "id": "abf706ef",
   "metadata": {},
   "outputs": [],
   "source": [
    "import numpy as np"
   ]
  },
  {
   "cell_type": "code",
   "execution_count": 6,
   "id": "e29b3aac",
   "metadata": {},
   "outputs": [],
   "source": [
    "x = np.array([1,3,5])\n",
    "y = np.array([2,5])"
   ]
  },
  {
   "cell_type": "code",
   "execution_count": 7,
   "id": "759fc791",
   "metadata": {},
   "outputs": [],
   "source": [
    "#x - y"
   ]
  },
  {
   "cell_type": "markdown",
   "id": "8639454f",
   "metadata": {},
   "source": [
    "When trying to subtract vectors of different length/shape, you receive a ValueError."
   ]
  },
  {
   "cell_type": "code",
   "execution_count": 8,
   "id": "81f1b619",
   "metadata": {},
   "outputs": [
    {
     "data": {
      "text/plain": [
       "array([[-1, -4],\n",
       "       [ 1, -2],\n",
       "       [ 3,  0]])"
      ]
     },
     "execution_count": 8,
     "metadata": {},
     "output_type": "execute_result"
    }
   ],
   "source": [
    "x.reshape(-1, 1) - y.reshape(1, -1)"
   ]
  },
  {
   "cell_type": "markdown",
   "id": "adfe067f",
   "metadata": {},
   "source": [
    "You get a 3x2 array whose rows are the pairwise differences for x's elements (i.e., row1 = [x1-y1, x1-y2]) and whose columns are the pairwise differences for y's elements (i.e., col1 = [x1-y1, x2-y1, x3-y1])."
   ]
  },
  {
   "cell_type": "code",
   "execution_count": 9,
   "id": "51abeea5",
   "metadata": {},
   "outputs": [
    {
     "data": {
      "text/plain": [
       "array([[-1,  1,  3],\n",
       "       [-4, -2,  0]])"
      ]
     },
     "execution_count": 9,
     "metadata": {},
     "output_type": "execute_result"
    }
   ],
   "source": [
    "x.reshape(1, -1) - y.reshape(-1, 1)"
   ]
  },
  {
   "cell_type": "markdown",
   "id": "337f610e",
   "metadata": {},
   "source": [
    "Everything flips! Now the rows correspond to the y's and the columns to the x's."
   ]
  },
  {
   "cell_type": "code",
   "execution_count": 10,
   "id": "11254e52",
   "metadata": {},
   "outputs": [
    {
     "name": "stdout",
     "output_type": "stream",
     "text": [
      "[[-1. -4.]\n",
      " [ 1. -2.]\n",
      " [ 3.  0.]]\n"
     ]
    }
   ],
   "source": [
    "x = np.array([1, 3, 5])\n",
    "y = np.array([2, 5])\n",
    "\n",
    "# 3x2\n",
    "result = np.zeros((3, 2))\n",
    "\n",
    "for i in range(3): # loop through the x_i's\n",
    "    for j in range(2): # loop through the y_j's\n",
    "        result[i, j] = x[i] - y[j]\n",
    "print(result)"
   ]
  },
  {
   "cell_type": "code",
   "execution_count": 11,
   "id": "8d3c29c7",
   "metadata": {},
   "outputs": [
    {
     "name": "stdout",
     "output_type": "stream",
     "text": [
      "[[-1.  1.  3.]\n",
      " [-4. -2.  0.]]\n"
     ]
    }
   ],
   "source": [
    "# 2x3\n",
    "result = np.zeros((2, 3))\n",
    "\n",
    "for i in range(2): # loop through the y_i's\n",
    "    for j in range(3): # loop through the x_j's\n",
    "        result[i, j] = x[j] - y[i]\n",
    "print(result)"
   ]
  },
  {
   "cell_type": "code",
   "execution_count": 12,
   "id": "037ae8d5",
   "metadata": {},
   "outputs": [
    {
     "data": {
      "text/plain": [
       "array([1, 3, 5])"
      ]
     },
     "execution_count": 12,
     "metadata": {},
     "output_type": "execute_result"
    }
   ],
   "source": [
    "x.reshape(1, -1)\n",
    "x"
   ]
  },
  {
   "cell_type": "markdown",
   "id": "ee9b7b11",
   "metadata": {},
   "source": [
    "Both x.reshape(1, -1) and x.reshape(-1, 1) give x a second dimension. In the case of the former, we supply the number of rows and let reshape() infer the columns, whereas with the latter we assign x a single column and let reshape() decide the rows. The reshaped arrays are essentially row and column vectors, respectively."
   ]
  },
  {
   "cell_type": "markdown",
   "id": "b29f1d35",
   "metadata": {},
   "source": [
    "3. The indicator function $\\mathbb{I}\\{ x \\le z \\}$ takes the value 0 if $x>z$ and 1 if $x \\le z$ is true, or\n",
    "$$\n",
    "\\mathbb{I}\\{x \\le z\\} = \\begin{cases}\n",
    "0, &x > z \\\\\n",
    "1, &x \\le z\n",
    "\\end{cases}\n",
    "$$\n",
    "\n",
    "- For $x = 3$, plot the indicator function for any $z$\n",
    "- Explain how $ 1- \\mathbb{I}\\{ x \\le z \\} = \\mathbb{I}\\{ x > z \\}$. Drawing a plot might help, or looking at the definition given above.\n",
    "- The code below generates a random sample for different numbers of observations, $N = 3, 30, 300, 3000 $. Write a function to compute the ECDF curve for each sample, and plot your results.\n",
    "- Describe in your own words what happens to the ECDF qualitatively as the sample size $N$ increases"
   ]
  },
  {
   "cell_type": "code",
   "execution_count": 13,
   "id": "192a2c05",
   "metadata": {},
   "outputs": [],
   "source": [
    "import numpy as np\n",
    "import matplotlib.pyplot as plt\n",
    "import seaborn as sns"
   ]
  },
  {
   "cell_type": "code",
   "execution_count": 14,
   "id": "81fe7f7f",
   "metadata": {},
   "outputs": [
    {
     "data": {
      "image/png": "[encoded data removed]",
      "text/plain": [
       "<Figure size 640x480 with 1 Axes>"
      ]
     },
     "metadata": {},
     "output_type": "display_data"
    }
   ],
   "source": [
    "# define z\n",
    "z = np.linspace(0, 6)\n",
    "\n",
    "# define indicator function for x = 3\n",
    "indicator = (z >= 3).astype(int)\n",
    "\n",
    "plt.plot(z, indicator, drawstyle = 'steps-post', linewidth = 2)\n",
    "plt.ylim(-0.3, 1.3)\n",
    "plt.xlabel(\"z\")\n",
    "plt.ylabel(\"I{3 ≤ z}\")\n",
    "plt.grid(True, linestyle = ':')\n",
    "plt.show()"
   ]
  },
  {
   "cell_type": "markdown",
   "id": "79375977",
   "metadata": {},
   "source": [
    "If $\\mathbb{I}\\{ x \\le z \\}$ = 1, then $\\mathbb{I}\\{ x > z \\}$ = 0 and if $\\mathbb{I}\\{ x > z \\}$ = 1, then $\\mathbb{I}\\{ x \\le z \\}$ = 0.\n",
    "\n",
    "Thus...\n",
    "\n",
    "Case I: $\\mathbb{I}\\{ x > z \\}$ = 0 and 1 - $\\mathbb{I}\\{ x \\le z \\}$ = 1 - 1 = 0.\n",
    "\n",
    "Case II: $\\mathbb{I}\\{ x > z \\}$ = 1 and 1 - $\\mathbb{I}\\{ x \\le z \\}$ = 1 - 0 = 0."
   ]
  },
  {
   "cell_type": "code",
   "execution_count": 15,
   "id": "17ad7d01",
   "metadata": {},
   "outputs": [],
   "source": [
    "def get_ecdf(X):\n",
    "    Z = np.sort(X) # sort x\n",
    "    compare = X.reshape(-1, 1) <= Z.reshape(1, -1) # compare X to Z\n",
    "\n",
    "    ecdf = np.mean(compare, axis = 0) # compute proportion of x's <= each z\n",
    "\n",
    "    return ecdf, Z\n"
   ]
  },
  {
   "cell_type": "code",
   "execution_count": 16,
   "id": "12310b16",
   "metadata": {},
   "outputs": [
    {
     "data": {
      "image/png": "[encoded data removed]",
      "text/plain": [
       "<Figure size 640x480 with 1 Axes>"
      ]
     },
     "metadata": {},
     "output_type": "display_data"
    }
   ],
   "source": [
    "rng = np.random.default_rng(100)\n",
    "\n",
    "for N in (3, 30, 300, 3000):\n",
    "    X = rng.normal(0, 1, N)\n",
    "\n",
    "    X_ecdf = get_ecdf(X)\n",
    "\n",
    "    plt.plot(X_ecdf[1], X_ecdf[0])\n",
    "    plt.title('Empirical CDF')\n",
    "    plt.ylabel('Proportion')\n",
    "    plt.xlabel('X')\n"
   ]
  },
  {
   "cell_type": "markdown",
   "id": "6861977a",
   "metadata": {},
   "source": [
    "As N increases, the ECDF smoothes. For the first three iterations (i.e., when N = 3, 30, and 300), the individual \"steps\" from one value to the next are still visible. However, by the time N reaches 3000, the values are too close together to notice any stepwise jumps, even in the tails."
   ]
  },
  {
   "cell_type": "markdown",
   "id": "6c8f1ebb",
   "metadata": {},
   "source": [
    "4. A **quantile** generalizes the concept of the median so that instead of 50% of the mass below and 50% above, the $q$-quantile is the value for which $q$ proportion of the data are below that value and $(1-q)$ proportion of the data are above that value. This is a concept of **order**.\n",
    "\n",
    "- Write a function that computes any quantile without using Numpy's `np.quantile`\n",
    "- Write a function that computes the **Interquartile Range (IQR)** -- the .25 quantile and the .75 quantile, which brackets 50% of the data -- and the **whiskers**: $\\pm 1.5 \\times \\text{IQR}$ from the edges of the IQR\n",
    "- Write a function that computes a five-number summary and values for a boxplot: the minimum, the .25 quantile, the median, the .75 quantile, and the maximum, and the whiskers\n",
    "- Anything outside the whiskers is an **outlier**; write a function that returns a Boolean vector indicating if the observations are outliers.\n",
    "- For a numeric variable of your choice from one of the datasets, apply your functions from above, and compare your answers with `sns.boxplot` and `df.describe`. "
   ]
  },
  {
   "cell_type": "code",
   "execution_count": 17,
   "id": "38520c96",
   "metadata": {},
   "outputs": [],
   "source": [
    "def get_quantile(X, q):\n",
    "    sorted = np.sort(X)\n",
    "    n = len(sorted)\n",
    "\n",
    "    # position index (linear interpolation)\n",
    "    pos = (n - 1)*q\n",
    "    lower = int(pos)\n",
    "    upper = lower + 1\n",
    "\n",
    "    if upper >= n:\n",
    "        return float(sorted[lower])\n",
    "    else:\n",
    "        weight = pos - lower\n",
    "        return (1 - weight)*sorted[lower] + weight*sorted[upper]"
   ]
  },
  {
   "cell_type": "code",
   "execution_count": 18,
   "id": "8cf3924f",
   "metadata": {},
   "outputs": [],
   "source": [
    "def get_iqr(X): # and whiskers!\n",
    "    # first and third quartiles\n",
    "    q1 = get_quantile(X, .25)\n",
    "    q3 = get_quantile(X, .75)\n",
    "\n",
    "    # iqr\n",
    "    iqr = q3 - q1\n",
    "\n",
    "    # whisker bounds\n",
    "    lower = q1 - 1.5*iqr\n",
    "    upper = q3 + 1.5*iqr\n",
    "\n",
    "    # whiskers\n",
    "    sorted = np.sort(X)\n",
    "    l_whisker = min([x for x in sorted if x >= lower], default = sorted[0])\n",
    "    u_whisker = max([x for x in sorted if x <= upper], default = sorted[-1])\n",
    "\n",
    "    return iqr, l_whisker, u_whisker"
   ]
  },
  {
   "cell_type": "code",
   "execution_count": 19,
   "id": "3d3509aa",
   "metadata": {},
   "outputs": [],
   "source": [
    "def get_5numsum(X):\n",
    "    minimum = min(X)\n",
    "    q1 = get_quantile(X, .25)\n",
    "    median = get_quantile(X, .5)\n",
    "    q3 = get_quantile(X, .75)\n",
    "    maximum = max(X)\n",
    "\n",
    "    l_whisker = get_iqr(X)[1] # lower whisker (equal to min if no outliers)\n",
    "    u_whisker = get_iqr(X)[2] # upper whisker (equal to max if no outliers)\n",
    "\n",
    "    return minimum, l_whisker, q1, median, q3, u_whisker, maximum"
   ]
  },
  {
   "cell_type": "code",
   "execution_count": 20,
   "id": "94a9e05a",
   "metadata": {},
   "outputs": [],
   "source": [
    "def get_outliers(X):\n",
    "    l_whisker = get_iqr(X)[1]\n",
    "    u_whisker = get_iqr(X)[2]\n",
    "\n",
    "    return [(x < l_whisker) or (x > u_whisker) for x in X]"
   ]
  },
  {
   "cell_type": "code",
   "execution_count": 21,
   "id": "354cf72f",
   "metadata": {},
   "outputs": [
    {
     "data": {
      "text/html": [
       "<div>\n",
       "<style scoped>\n",
       "    .dataframe tbody tr th:only-of-type {\n",
       "        vertical-align: middle;\n",
       "    }\n",
       "\n",
       "    .dataframe tbody tr th {\n",
       "        vertical-align: top;\n",
       "    }\n",
       "\n",
       "    .dataframe thead th {\n",
       "        text-align: right;\n",
       "    }\n",
       "</style>\n",
       "<table border=\"1\" class=\"dataframe\">\n",
       "  <thead>\n",
       "    <tr style=\"text-align: right;\">\n",
       "      <th></th>\n",
       "      <th>Order</th>\n",
       "      <th>PID</th>\n",
       "      <th>area</th>\n",
       "      <th>price</th>\n",
       "      <th>MS.SubClass</th>\n",
       "      <th>MS.Zoning</th>\n",
       "      <th>Lot.Frontage</th>\n",
       "      <th>Lot.Area</th>\n",
       "      <th>Street</th>\n",
       "      <th>Alley</th>\n",
       "      <th>...</th>\n",
       "      <th>Screen.Porch</th>\n",
       "      <th>Pool.Area</th>\n",
       "      <th>Pool.QC</th>\n",
       "      <th>Fence</th>\n",
       "      <th>Misc.Feature</th>\n",
       "      <th>Misc.Val</th>\n",
       "      <th>Mo.Sold</th>\n",
       "      <th>Yr.Sold</th>\n",
       "      <th>Sale.Type</th>\n",
       "      <th>Sale.Condition</th>\n",
       "    </tr>\n",
       "  </thead>\n",
       "  <tbody>\n",
       "    <tr>\n",
       "      <th>0</th>\n",
       "      <td>1</td>\n",
       "      <td>526301100</td>\n",
       "      <td>1656</td>\n",
       "      <td>215000</td>\n",
       "      <td>20</td>\n",
       "      <td>RL</td>\n",
       "      <td>141.0</td>\n",
       "      <td>31770</td>\n",
       "      <td>Pave</td>\n",
       "      <td>NaN</td>\n",
       "      <td>...</td>\n",
       "      <td>0</td>\n",
       "      <td>0</td>\n",
       "      <td>NaN</td>\n",
       "      <td>NaN</td>\n",
       "      <td>NaN</td>\n",
       "      <td>0</td>\n",
       "      <td>5</td>\n",
       "      <td>2010</td>\n",
       "      <td>WD</td>\n",
       "      <td>Normal</td>\n",
       "    </tr>\n",
       "    <tr>\n",
       "      <th>1</th>\n",
       "      <td>2</td>\n",
       "      <td>526350040</td>\n",
       "      <td>896</td>\n",
       "      <td>105000</td>\n",
       "      <td>20</td>\n",
       "      <td>RH</td>\n",
       "      <td>80.0</td>\n",
       "      <td>11622</td>\n",
       "      <td>Pave</td>\n",
       "      <td>NaN</td>\n",
       "      <td>...</td>\n",
       "      <td>120</td>\n",
       "      <td>0</td>\n",
       "      <td>NaN</td>\n",
       "      <td>MnPrv</td>\n",
       "      <td>NaN</td>\n",
       "      <td>0</td>\n",
       "      <td>6</td>\n",
       "      <td>2010</td>\n",
       "      <td>WD</td>\n",
       "      <td>Normal</td>\n",
       "    </tr>\n",
       "    <tr>\n",
       "      <th>2</th>\n",
       "      <td>3</td>\n",
       "      <td>526351010</td>\n",
       "      <td>1329</td>\n",
       "      <td>172000</td>\n",
       "      <td>20</td>\n",
       "      <td>RL</td>\n",
       "      <td>81.0</td>\n",
       "      <td>14267</td>\n",
       "      <td>Pave</td>\n",
       "      <td>NaN</td>\n",
       "      <td>...</td>\n",
       "      <td>0</td>\n",
       "      <td>0</td>\n",
       "      <td>NaN</td>\n",
       "      <td>NaN</td>\n",
       "      <td>Gar2</td>\n",
       "      <td>12500</td>\n",
       "      <td>6</td>\n",
       "      <td>2010</td>\n",
       "      <td>WD</td>\n",
       "      <td>Normal</td>\n",
       "    </tr>\n",
       "    <tr>\n",
       "      <th>3</th>\n",
       "      <td>4</td>\n",
       "      <td>526353030</td>\n",
       "      <td>2110</td>\n",
       "      <td>244000</td>\n",
       "      <td>20</td>\n",
       "      <td>RL</td>\n",
       "      <td>93.0</td>\n",
       "      <td>11160</td>\n",
       "      <td>Pave</td>\n",
       "      <td>NaN</td>\n",
       "      <td>...</td>\n",
       "      <td>0</td>\n",
       "      <td>0</td>\n",
       "      <td>NaN</td>\n",
       "      <td>NaN</td>\n",
       "      <td>NaN</td>\n",
       "      <td>0</td>\n",
       "      <td>4</td>\n",
       "      <td>2010</td>\n",
       "      <td>WD</td>\n",
       "      <td>Normal</td>\n",
       "    </tr>\n",
       "    <tr>\n",
       "      <th>4</th>\n",
       "      <td>5</td>\n",
       "      <td>527105010</td>\n",
       "      <td>1629</td>\n",
       "      <td>189900</td>\n",
       "      <td>60</td>\n",
       "      <td>RL</td>\n",
       "      <td>74.0</td>\n",
       "      <td>13830</td>\n",
       "      <td>Pave</td>\n",
       "      <td>NaN</td>\n",
       "      <td>...</td>\n",
       "      <td>0</td>\n",
       "      <td>0</td>\n",
       "      <td>NaN</td>\n",
       "      <td>MnPrv</td>\n",
       "      <td>NaN</td>\n",
       "      <td>0</td>\n",
       "      <td>3</td>\n",
       "      <td>2010</td>\n",
       "      <td>WD</td>\n",
       "      <td>Normal</td>\n",
       "    </tr>\n",
       "  </tbody>\n",
       "</table>\n",
       "<p>5 rows × 82 columns</p>\n",
       "</div>"
      ],
      "text/plain": [
       "   Order        PID  area   price  MS.SubClass MS.Zoning  Lot.Frontage  \\\n",
       "0      1  526301100  1656  215000           20        RL         141.0   \n",
       "1      2  526350040   896  105000           20        RH          80.0   \n",
       "2      3  526351010  1329  172000           20        RL          81.0   \n",
       "3      4  526353030  2110  244000           20        RL          93.0   \n",
       "4      5  527105010  1629  189900           60        RL          74.0   \n",
       "\n",
       "   Lot.Area Street Alley  ... Screen.Porch Pool.Area Pool.QC  Fence  \\\n",
       "0     31770   Pave   NaN  ...            0         0     NaN    NaN   \n",
       "1     11622   Pave   NaN  ...          120         0     NaN  MnPrv   \n",
       "2     14267   Pave   NaN  ...            0         0     NaN    NaN   \n",
       "3     11160   Pave   NaN  ...            0         0     NaN    NaN   \n",
       "4     13830   Pave   NaN  ...            0         0     NaN  MnPrv   \n",
       "\n",
       "  Misc.Feature Misc.Val Mo.Sold Yr.Sold Sale.Type Sale.Condition  \n",
       "0          NaN        0       5    2010       WD          Normal  \n",
       "1          NaN        0       6    2010       WD          Normal  \n",
       "2         Gar2    12500       6    2010       WD          Normal  \n",
       "3          NaN        0       4    2010       WD          Normal  \n",
       "4          NaN        0       3    2010       WD          Normal  \n",
       "\n",
       "[5 rows x 82 columns]"
      ]
     },
     "execution_count": 21,
     "metadata": {},
     "output_type": "execute_result"
    }
   ],
   "source": [
    "ames = pd.read_csv('./data/ames_prices.csv')\n",
    "ames.head()"
   ]
  },
  {
   "cell_type": "code",
   "execution_count": 22,
   "id": "fbf7544c",
   "metadata": {},
   "outputs": [
    {
     "data": {
      "text/plain": [
       "(12789,\n",
       " np.int64(12789),\n",
       " np.float64(129500.0),\n",
       " np.float64(160000.0),\n",
       " np.float64(213500.0),\n",
       " np.int64(338931),\n",
       " 755000)"
      ]
     },
     "execution_count": 22,
     "metadata": {},
     "output_type": "execute_result"
    }
   ],
   "source": [
    "get_5numsum(ames['price'])"
   ]
  },
  {
   "cell_type": "code",
   "execution_count": 23,
   "id": "1b5b1193",
   "metadata": {},
   "outputs": [
    {
     "data": {
      "text/plain": [
       "count      2930.000000\n",
       "mean     180796.060068\n",
       "std       79886.692357\n",
       "min       12789.000000\n",
       "25%      129500.000000\n",
       "50%      160000.000000\n",
       "75%      213500.000000\n",
       "max      755000.000000\n",
       "Name: price, dtype: float64"
      ]
     },
     "execution_count": 23,
     "metadata": {},
     "output_type": "execute_result"
    }
   ],
   "source": [
    "ames['price'].describe()"
   ]
  },
  {
   "cell_type": "markdown",
   "id": "2364fe7a",
   "metadata": {},
   "source": [
    "Looks good! Mine's not the easiest to read, but the common values (min, Q1, median, Q3, max) all match."
   ]
  },
  {
   "cell_type": "code",
   "execution_count": 24,
   "id": "ad7111f4",
   "metadata": {},
   "outputs": [
    {
     "data": {
      "text/plain": [
       "np.int64(137)"
      ]
     },
     "execution_count": 24,
     "metadata": {},
     "output_type": "execute_result"
    }
   ],
   "source": [
    "sum(get_outliers(ames['price']))"
   ]
  },
  {
   "cell_type": "code",
   "execution_count": 25,
   "id": "a80d546c",
   "metadata": {},
   "outputs": [
    {
     "data": {
      "text/plain": [
       "<Axes: ylabel='price'>"
      ]
     },
     "execution_count": 25,
     "metadata": {},
     "output_type": "execute_result"
    },
    {
     "data": {
      "image/png": "[encoded data removed]",
      "text/plain": [
       "<Figure size 640x480 with 1 Axes>"
      ]
     },
     "metadata": {},
     "output_type": "display_data"
    }
   ],
   "source": [
    "sns.boxplot(ames['price'])"
   ]
  },
  {
   "cell_type": "markdown",
   "id": "e993e7c8",
   "metadata": {},
   "source": [
    "The get_outliers() function tagged 137 outliers, which aligns with the boxplot's strong rightward skew."
   ]
  }
 ],
 "metadata": {
  "kernelspec": {
   "display_name": "ds6001",
   "language": "python",
   "name": "python3"
  },
  "language_info": {
   "codemirror_mode": {
    "name": "ipython",
    "version": 3
   },
   "file_extension": ".py",
   "mimetype": "text/x-python",
   "name": "python",
   "nbconvert_exporter": "python",
   "pygments_lexer": "ipython3",
   "version": "3.13.5"
  }
 },
 "nbformat": 4,
 "nbformat_minor": 5
}
